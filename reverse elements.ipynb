{
 "cells": [
  {
   "cell_type": "markdown",
   "id": "33b75be1",
   "metadata": {},
   "source": [
    "#создадим функцию, которая рождает массив случайных чисел, штук 50-70 хватит, показывает нам его, а потом вычисляет разницу между двумя соседними элементами и выводит тоже в виде массива "
   ]
  },
  {
   "cell_type": "code",
   "execution_count": 74,
   "id": "6e2b5894",
   "metadata": {},
   "outputs": [],
   "source": [
    "def difference ():\n",
    "    import random as d \n",
    "    m = [d.randint (10, 47) for i in range (57)]\n",
    "    difference = [m [i +1] - m[i] for i in range (len (m) -1)]\n",
    "    return(difference)\n",
    "\n",
    "\n"
   ]
  },
  {
   "cell_type": "code",
   "execution_count": 76,
   "id": "87271185",
   "metadata": {},
   "outputs": [
    {
     "name": "stdout",
     "output_type": "stream",
     "text": [
      "[-1, 14, -20, 37, -31, -6, 8, -8, 21, 10, -30, 23, -3, -2, 18, 0, -35, 15, -6, 26, -32, 27, -30, 10, -7, -2, 33, 1, -15, 9, 0, -14, 16, -32, 23, -13, 24, -24, 26, -17, -10, 18, -22, 21, -3, 12, -25, 15, 2, -11, 12, -5, -19, 27, -10, -1]\n"
     ]
    }
   ],
   "source": [
    "difference()"
   ]
  },
  {
   "cell_type": "markdown",
   "id": "8b17acbc",
   "metadata": {},
   "source": [
    "#а потом создадим функцию, которая выводит уже два массива, и оба одинаковой длины, а мы берём и к каждому элементу первого прибавляем соответствующий перевёрнутый элемент второго (соответствующий = стоящий на таком же месте, перевёрнутый - то есть 38 превратится в 83) и пихаем в новый массив"
   ]
  },
  {
   "cell_type": "code",
   "execution_count": 205,
   "id": "b0d32345",
   "metadata": {},
   "outputs": [
    {
     "name": "stdout",
     "output_type": "stream",
     "text": [
      "[1289, 2378, 3467, 4556, 5645, 6734, 7823, 8912]\n"
     ]
    }
   ],
   "source": [
    "c1 = [12, 23, 34, 45, 56, 67, 78, 89]\n",
    "c2 = [98, 87, 76, 65, 54, 43, 32, 21]\n",
    "result = []\n",
    "for i in range(len(c1)):\n",
    "    result.append (int( str(c1[i]) + str(c2[i])[::-1]))\n",
    "print(result)"
   ]
  },
  {
   "cell_type": "code",
   "execution_count": 206,
   "id": "beeb775a",
   "metadata": {},
   "outputs": [
    {
     "data": {
      "text/plain": [
       "[1289, 2378, 3467, 4556, 5645, 6734, 7823, 8912]"
      ]
     },
     "execution_count": 206,
     "metadata": {},
     "output_type": "execute_result"
    }
   ],
   "source": [
    "result"
   ]
  },
  {
   "cell_type": "code",
   "execution_count": null,
   "id": "e3af1069",
   "metadata": {},
   "outputs": [],
   "source": []
  }
 ],
 "metadata": {
  "kernelspec": {
   "display_name": "Python 3",
   "language": "python",
   "name": "python3"
  },
  "language_info": {
   "codemirror_mode": {
    "name": "ipython",
    "version": 3
   },
   "file_extension": ".py",
   "mimetype": "text/x-python",
   "name": "python",
   "nbconvert_exporter": "python",
   "pygments_lexer": "ipython3",
   "version": "3.8.8"
  }
 },
 "nbformat": 4,
 "nbformat_minor": 5
}
