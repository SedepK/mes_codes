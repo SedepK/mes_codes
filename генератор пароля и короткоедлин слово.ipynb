{
 "cells": [
  {
   "cell_type": "code",
   "execution_count": 17,
   "id": "02fe5d07",
   "metadata": {},
   "outputs": [
    {
     "name": "stdout",
     "output_type": "stream",
     "text": [
      "ao-t={ifdb\n"
     ]
    }
   ],
   "source": [
    "import random\n",
    "numbers = '[d.randint (1,100) for i in range 20]'\n",
    "lower = 'qwertyuiopasdfghjklzxcvbnm'\n",
    "upper = 'QWERTYUIOPASDFGHJKLZXCVBNM'\n",
    "symbols = '_-=/[]{}'\n",
    "length = 10 \n",
    "generated = numbers + lower + upper + symbols\n",
    "password = ''.join(random.sample(generated, length))\n",
    "print (password)"
   ]
  },
  {
   "cell_type": "code",
   "execution_count": 20,
   "id": "a4548236",
   "metadata": {},
   "outputs": [],
   "source": [
    "def sentence (words):\n",
    "    shortest = min((i for i in words if i), key=len)\n",
    "    longest = max((i for i in words if i), key=len)\n",
    "    return shortest, longest"
   ]
  },
  {
   "cell_type": "code",
   "execution_count": 21,
   "id": "7858091c",
   "metadata": {},
   "outputs": [
    {
     "data": {
      "text/plain": [
       "('H', 'H')"
      ]
     },
     "execution_count": 21,
     "metadata": {},
     "output_type": "execute_result"
    }
   ],
   "source": [
    "sentence ('Hello world')"
   ]
  },
  {
   "cell_type": "code",
   "execution_count": null,
   "id": "ee475de7",
   "metadata": {},
   "outputs": [],
   "source": []
  }
 ],
 "metadata": {
  "kernelspec": {
   "display_name": "Python 3",
   "language": "python",
   "name": "python3"
  },
  "language_info": {
   "codemirror_mode": {
    "name": "ipython",
    "version": 3
   },
   "file_extension": ".py",
   "mimetype": "text/x-python",
   "name": "python",
   "nbconvert_exporter": "python",
   "pygments_lexer": "ipython3",
   "version": "3.8.8"
  }
 },
 "nbformat": 4,
 "nbformat_minor": 5
}
