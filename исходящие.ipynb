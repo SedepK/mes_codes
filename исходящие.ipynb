{
 "cells": [
  {
   "cell_type": "code",
   "execution_count": 102,
   "id": "6d9c8b67",
   "metadata": {},
   "outputs": [],
   "source": [
    "def otpravka(status):\n",
    "    if status == 0:\n",
    "        print ('еще не в системе')\n",
    "        vhod(0)\n",
    "    else:\n",
    "        message_from = status\n",
    "        message_to = input('komu?')\n",
    "        if message_to == \"\":\n",
    "            print ('poluchatel ne mojet byt pustym')\n",
    "            otpravka(status)\n",
    "        message_text = input ('chto pishem?')\n",
    "        while message_text == \"\":\n",
    "            print ('soobshenie ne mb pustym')\n",
    "            message_text = input('chto pishem?')\n",
    "        with open ('messages.json', 'r') as file:\n",
    "            messages = json.load(file)\n",
    "        last_key = list(messages.keys())[-1]\n",
    "        messages [str(int(last_key) + 1)] = {}\n",
    "        messages [str(int(last_key) + 1)]['from'] = message_from\n",
    "        messages [str(int(last_key) + 1)]['to'] = message_to\n",
    "        messages [str(int(last_key) + 1)][ 'message_text' ] = message_text\n",
    "        with open ('messages.json', 'w') as file:\n",
    "            json.dump(messages, file)\n",
    "        print ('sent to: ', message_to)    "
   ]
  }
 ],
 "metadata": {
  "kernelspec": {
   "display_name": "Python 3",
   "language": "python",
   "name": "python3"
  },
  "language_info": {
   "codemirror_mode": {
    "name": "ipython",
    "version": 3
   },
   "file_extension": ".py",
   "mimetype": "text/x-python",
   "name": "python",
   "nbconvert_exporter": "python",
   "pygments_lexer": "ipython3",
   "version": "3.8.8"
  }
 },
 "nbformat": 4,
 "nbformat_minor": 5
}
