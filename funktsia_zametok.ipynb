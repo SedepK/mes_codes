{
 "cells": [
  {
   "cell_type": "code",
   "execution_count": 1,
   "id": "c29f80e2",
   "metadata": {},
   "outputs": [],
   "source": [
    "def opener(arg):\n",
    "    try:\n",
    "        with open(str(arg + '.txt'), 'r') as be:\n",
    "            ce = be.read()\n",
    "        print(ce)\n",
    "    except:\n",
    "        with open(str(arg + '.txt'), 'w') as ef:\n",
    "            ef.write(input('Введите текст'))"
   ]
  },
  {
   "cell_type": "code",
   "execution_count": 18,
   "id": "21186573",
   "metadata": {},
   "outputs": [],
   "source": [
    "def zapis(arg):\n",
    "    zametka = input('Введите текст   ')\n",
    "    with open(str(arg + '.txt'), 'a') as ef:\n",
    "            ef.write(str(zametka) + '\\n')\n",
    "    print('Записал:   ', zametka)"
   ]
  },
  {
   "cell_type": "code",
   "execution_count": 24,
   "id": "5371719c",
   "metadata": {},
   "outputs": [],
   "source": [
    "def chtenie(arg):\n",
    "    with open(str(arg + '.txt'), 'r') as be:\n",
    "        ce = be.read()\n",
    "    print (ce)"
   ]
  },
  {
   "cell_type": "code",
   "execution_count": null,
   "id": "4563de80",
   "metadata": {},
   "outputs": [],
   "source": [
    "def udalenie (arg, ind):\n",
    "    with open(str(arg + '.txt'), 'r') as be:\n",
    "            ce = be.read().split('\\n')[:-1]\n",
    "    print (ce)\n",
    "    ce.pop(ind -1)\n",
    "    print (ce)\n",
    "    with open(str(arg + '.txt'), 'w') as ef:\n",
    "        ef.write(str(ce) + '\\n')\n",
    "        "
   ]
  }
 ],
 "metadata": {
  "kernelspec": {
   "display_name": "Python 3",
   "language": "python",
   "name": "python3"
  },
  "language_info": {
   "codemirror_mode": {
    "name": "ipython",
    "version": 3
   },
   "file_extension": ".py",
   "mimetype": "text/x-python",
   "name": "python",
   "nbconvert_exporter": "python",
   "pygments_lexer": "ipython3",
   "version": "3.8.8"
  }
 },
 "nbformat": 4,
 "nbformat_minor": 5
}
