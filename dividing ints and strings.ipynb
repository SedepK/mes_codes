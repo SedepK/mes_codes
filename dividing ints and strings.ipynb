{
 "cells": [
  {
   "cell_type": "markdown",
   "id": "49a24c7c",
   "metadata": {},
   "source": [
    "#элементы где числа и буквы вперемешку разделяй на числа и буквы по отдельности, в том же порядке, и складывай в третий массив \n",
    "то есть “132wer4”, “as32hgf68”\n",
    "превратится в\n",
    "132, ”wer”, 4, “as”, 32, “hgf”, 68"
   ]
  },
  {
   "cell_type": "code",
   "execution_count": 12,
   "id": "883348b2",
   "metadata": {},
   "outputs": [
    {
     "name": "stdout",
     "output_type": "stream",
     "text": [
      "['45678']\n",
      "['sdfghjkl']\n",
      "[132, 4, 32, 68]\n",
      "['wer', 'as', 'hgf']\n"
     ]
    }
   ],
   "source": [
    "t = ['132wer4', '45678', 'sdfghjkl', 'as32hgf68']\n",
    "cifry = []\n",
    "bukvy = []\n",
    "o = []\n",
    "k = []\n",
    "for i in range (len(t)):\n",
    "    if t[i].isdigit():\n",
    "        cifry.append(t[i])\n",
    "    elif t[i].isalpha():\n",
    "        bukvy.append(t[i])\n",
    "    else:\n",
    "        f(t[i])\n",
    "print(cifry)\n",
    "print(bukvy)\n",
    "print(o)\n",
    "print(k)"
   ]
  },
  {
   "cell_type": "code",
   "execution_count": 13,
   "id": "542809b2",
   "metadata": {},
   "outputs": [],
   "source": [
    "def f (test):\n",
    "    p = ''\n",
    "    l = ''\n",
    "    for i in range (len(test)):\n",
    "        if test[i].isdigit():\n",
    "            p += (test[i])\n",
    "            if l != '':\n",
    "                k.append(l)\n",
    "                l = ''\n",
    "        else:\n",
    "            if p != '':\n",
    "                o.append(int(p))\n",
    "                p = ''\n",
    "            l += (test[i])\n",
    "\n",
    "    if p != '':\n",
    "        o.append (int(p))\n",
    "    if l != '':\n",
    "        k.append (l)"
   ]
  }
 ],
 "metadata": {
  "kernelspec": {
   "display_name": "Python 3",
   "language": "python",
   "name": "python3"
  },
  "language_info": {
   "codemirror_mode": {
    "name": "ipython",
    "version": 3
   },
   "file_extension": ".py",
   "mimetype": "text/x-python",
   "name": "python",
   "nbconvert_exporter": "python",
   "pygments_lexer": "ipython3",
   "version": "3.8.8"
  }
 },
 "nbformat": 4,
 "nbformat_minor": 5
}
