{
 "cells": [
  {
   "cell_type": "code",
   "execution_count": 1,
   "id": "520b30e2",
   "metadata": {},
   "outputs": [],
   "source": [
    "import pandas as pd\n",
    "import random as rd"
   ]
  },
  {
   "cell_type": "code",
   "execution_count": 2,
   "id": "2d376afa",
   "metadata": {},
   "outputs": [
    {
     "name": "stdout",
     "output_type": "stream",
     "text": [
      "[['m', 32, 10], ['f', 50, 8], ['f', 32, 9], ['f', 39, 8], ['f', 44, 8], ['f', 23, 4], ['m', 45, 9], ['f', 55, 8], ['f', 30, 7], ['f', 63, 5], ['f', 64, 10], ['m', 24, 5], ['m', 23, 9], ['m', 66, 3], ['f', 53, 6], ['m', 31, 2], ['m', 54, 1], ['f', 48, 1], ['f', 61, 8], ['m', 55, 2], ['f', 52, 5], ['f', 49, 1], ['m', 46, 4], ['f', 57, 6], ['f', 47, 6], ['m', 41, 6], ['f', 21, 1], ['m', 42, 10], ['f', 19, 8], ['f', 45, 6], ['f', 66, 6], ['f', 54, 7], ['f', 40, 1], ['m', 45, 10], ['m', 31, 7], ['m', 42, 10], ['m', 29, 8], ['f', 21, 7], ['m', 33, 4], ['m', 36, 8], ['f', 64, 7], ['m', 24, 2], ['m', 26, 4], ['m', 52, 1], ['m', 65, 8], ['m', 35, 9], ['f', 63, 1], ['f', 57, 7], ['f', 22, 1], ['f', 51, 8], ['f', 49, 3], ['f', 65, 1], ['m', 65, 8], ['m', 57, 9], ['f', 40, 3], ['m', 34, 2], ['m', 69, 6], ['m', 21, 1], ['f', 44, 2], ['m', 33, 1], ['f', 39, 10], ['f', 60, 2], ['f', 64, 8], ['m', 47, 2], ['m', 53, 10], ['m', 69, 2], ['m', 53, 3], ['m', 57, 4], ['m', 43, 5], ['m', 67, 1], ['f', 34, 6], ['m', 55, 1], ['m', 55, 2], ['f', 42, 1], ['f', 56, 1], ['m', 23, 1], ['f', 19, 6], ['f', 60, 6], ['m', 27, 8], ['m', 68, 10], ['f', 64, 6], ['m', 68, 5], ['f', 25, 8], ['f', 38, 7], ['m', 28, 1], ['f', 23, 4], ['f', 50, 7], ['m', 29, 4], ['m', 64, 1], ['f', 20, 6], ['m', 46, 2], ['f', 42, 4], ['f', 47, 2], ['f', 40, 4], ['f', 34, 3], ['f', 22, 3], ['f', 32, 10], ['f', 59, 4], ['f', 52, 6], ['m', 21, 10]]\n",
      "['щхйгш', 'снпйъ', 'фдзпх', 'лцуке', 'онйщи', 'вефрн', 'гхюпм', 'ачжбч', 'фьмчв', 'рпхщг', 'яьчрз', 'жбвьх', 'шпяшж', 'ндмгъ', 'нлгьж', 'ссыоы', 'гцмлн', 'кззиъ', 'есзжм', 'шглзл', 'цгшкл', 'цееьн', 'мфмдп', 'лаенз', 'быбвю', 'ьыъре', 'упауы', 'збррг', 'рхбяа', 'тыйыя', 'пнопщ', 'дгюна', 'ииряк', 'аокрл', 'рякгс', 'юьпдт', 'зьмьф', 'ьсшям', 'нлачи', 'ягюнг', 'длййм', 'юльър', 'ьрюкч', 'лдбьу', 'учьдг', 'ущагя', 'пшьни', 'въхиз', 'яхтца', 'нмьзо', 'яозвф', 'сптпк', 'ючотю', 'чгдях', 'ыюрям', 'слжвг', 'шбкъя', 'сбчия', 'юьнмс', 'угффч', 'щехфе', 'цтфрь', 'яюъкз', 'оешпя', 'ажфпй', 'ъщгвй', 'зжлмъ', 'юышвф', 'щбцел', 'зшъпе', 'фцсжт', 'кзежд', 'акеым', 'яырмж', 'онееь', 'твлнж', 'йсбмш', 'вьшчп', 'фнхыщ', 'егфпе', 'ючхбш', 'жнйдс', 'жсщкх', 'квгшп', 'нзжшх', 'мфяай', 'хдцкч', 'ьврйв', 'шднут', 'щтящб', 'вхмяф', 'кюежц', 'аомдс', 'дчгаь', 'нпоцд', 'ъднцо', 'цышпл', 'ихлзв', 'ууаир', 'ърншб']\n"
     ]
    }
   ],
   "source": [
    "usrs = []\n",
    "names = []\n",
    "for i in range(100):\n",
    "    vr = []\n",
    "    vr.append(rd.choice(['f', 'm']))\n",
    "    vr.append(rd.randint(18, 69))\n",
    "    vr.append(rd.randint(1, 10))\n",
    "    usrs.append(vr)\n",
    "    names.append(''.join(rd.choices([*'йцукенгшщзхъфывапролджячсмитьбю'], k=5)))\n",
    "print(usrs)\n",
    "print(names)"
   ]
  },
  {
   "cell_type": "code",
   "execution_count": 3,
   "id": "851231a1",
   "metadata": {},
   "outputs": [],
   "source": [
    "df = pd.DataFrame(usrs, index=names, columns=['sex', 'age', 'point'])"
   ]
  },
  {
   "cell_type": "code",
   "execution_count": 4,
   "id": "a149cb42",
   "metadata": {},
   "outputs": [
    {
     "data": {
      "text/html": [
       "<div>\n",
       "<style scoped>\n",
       "    .dataframe tbody tr th:only-of-type {\n",
       "        vertical-align: middle;\n",
       "    }\n",
       "\n",
       "    .dataframe tbody tr th {\n",
       "        vertical-align: top;\n",
       "    }\n",
       "\n",
       "    .dataframe thead th {\n",
       "        text-align: right;\n",
       "    }\n",
       "</style>\n",
       "<table border=\"1\" class=\"dataframe\">\n",
       "  <thead>\n",
       "    <tr style=\"text-align: right;\">\n",
       "      <th></th>\n",
       "      <th>sex</th>\n",
       "      <th>age</th>\n",
       "      <th>point</th>\n",
       "    </tr>\n",
       "  </thead>\n",
       "  <tbody>\n",
       "    <tr>\n",
       "      <th>щхйгш</th>\n",
       "      <td>m</td>\n",
       "      <td>32</td>\n",
       "      <td>10</td>\n",
       "    </tr>\n",
       "    <tr>\n",
       "      <th>снпйъ</th>\n",
       "      <td>f</td>\n",
       "      <td>50</td>\n",
       "      <td>8</td>\n",
       "    </tr>\n",
       "    <tr>\n",
       "      <th>фдзпх</th>\n",
       "      <td>f</td>\n",
       "      <td>32</td>\n",
       "      <td>9</td>\n",
       "    </tr>\n",
       "    <tr>\n",
       "      <th>лцуке</th>\n",
       "      <td>f</td>\n",
       "      <td>39</td>\n",
       "      <td>8</td>\n",
       "    </tr>\n",
       "    <tr>\n",
       "      <th>онйщи</th>\n",
       "      <td>f</td>\n",
       "      <td>44</td>\n",
       "      <td>8</td>\n",
       "    </tr>\n",
       "    <tr>\n",
       "      <th>...</th>\n",
       "      <td>...</td>\n",
       "      <td>...</td>\n",
       "      <td>...</td>\n",
       "    </tr>\n",
       "    <tr>\n",
       "      <th>ъднцо</th>\n",
       "      <td>f</td>\n",
       "      <td>22</td>\n",
       "      <td>3</td>\n",
       "    </tr>\n",
       "    <tr>\n",
       "      <th>цышпл</th>\n",
       "      <td>f</td>\n",
       "      <td>32</td>\n",
       "      <td>10</td>\n",
       "    </tr>\n",
       "    <tr>\n",
       "      <th>ихлзв</th>\n",
       "      <td>f</td>\n",
       "      <td>59</td>\n",
       "      <td>4</td>\n",
       "    </tr>\n",
       "    <tr>\n",
       "      <th>ууаир</th>\n",
       "      <td>f</td>\n",
       "      <td>52</td>\n",
       "      <td>6</td>\n",
       "    </tr>\n",
       "    <tr>\n",
       "      <th>ърншб</th>\n",
       "      <td>m</td>\n",
       "      <td>21</td>\n",
       "      <td>10</td>\n",
       "    </tr>\n",
       "  </tbody>\n",
       "</table>\n",
       "<p>100 rows × 3 columns</p>\n",
       "</div>"
      ],
      "text/plain": [
       "      sex  age  point\n",
       "щхйгш   m   32     10\n",
       "снпйъ   f   50      8\n",
       "фдзпх   f   32      9\n",
       "лцуке   f   39      8\n",
       "онйщи   f   44      8\n",
       "...    ..  ...    ...\n",
       "ъднцо   f   22      3\n",
       "цышпл   f   32     10\n",
       "ихлзв   f   59      4\n",
       "ууаир   f   52      6\n",
       "ърншб   m   21     10\n",
       "\n",
       "[100 rows x 3 columns]"
      ]
     },
     "execution_count": 4,
     "metadata": {},
     "output_type": "execute_result"
    }
   ],
   "source": [
    "df"
   ]
  },
  {
   "cell_type": "code",
   "execution_count": 5,
   "id": "6befb7cb",
   "metadata": {},
   "outputs": [
    {
     "name": "stdout",
     "output_type": "stream",
     "text": [
      "sex\n",
      "f    54\n",
      "m    46\n",
      "dtype: int64\n",
      "\n",
      "age\n",
      "64    5\n",
      "55    4\n",
      "23    4\n",
      "57    4\n",
      "42    4\n",
      "21    4\n",
      "53    3\n",
      "40    3\n",
      "47    3\n",
      "45    3\n",
      "32    3\n",
      "65    3\n",
      "34    3\n",
      "52    3\n",
      "50    2\n",
      "46    2\n",
      "49    2\n",
      "66    2\n",
      "54    2\n",
      "60    2\n",
      "63    2\n",
      "68    2\n",
      "19    2\n",
      "44    2\n",
      "69    2\n",
      "22    2\n",
      "39    2\n",
      "24    2\n",
      "33    2\n",
      "31    2\n",
      "29    2\n",
      "59    1\n",
      "67    1\n",
      "25    1\n",
      "26    1\n",
      "27    1\n",
      "61    1\n",
      "28    1\n",
      "20    1\n",
      "43    1\n",
      "30    1\n",
      "35    1\n",
      "51    1\n",
      "36    1\n",
      "38    1\n",
      "48    1\n",
      "41    1\n",
      "56    1\n",
      "dtype: int64\n",
      "\n",
      "point\n",
      "1     18\n",
      "8     14\n",
      "6     13\n",
      "2     11\n",
      "4     10\n",
      "10    10\n",
      "7      8\n",
      "3      6\n",
      "5      5\n",
      "9      5\n",
      "dtype: int64\n"
     ]
    }
   ],
   "source": [
    "print(df.value_counts(df.sex))\n",
    "print()\n",
    "print(df.value_counts(df.age))\n",
    "print()\n",
    "print(df.value_counts(df.point))"
   ]
  },
  {
   "cell_type": "code",
   "execution_count": 6,
   "id": "d92947e7",
   "metadata": {},
   "outputs": [],
   "source": [
    "import seaborn as sb"
   ]
  },
  {
   "cell_type": "code",
   "execution_count": 7,
   "id": "e506051e",
   "metadata": {},
   "outputs": [
    {
     "name": "stderr",
     "output_type": "stream",
     "text": [
      "C:\\ProgramData\\Anaconda3\\lib\\site-packages\\seaborn\\_decorators.py:36: FutureWarning: Pass the following variable as a keyword arg: x. From version 0.12, the only valid positional argument will be `data`, and passing other arguments without an explicit keyword will result in an error or misinterpretation.\n",
      "  warnings.warn(\n"
     ]
    },
    {
     "name": "stdout",
     "output_type": "stream",
     "text": [
      "AxesSubplot(0.125,0.125;0.775x0.755)\n"
     ]
    },
    {
     "data": {
      "image/png": "[encoded data removed]",
      "text/plain": [
       "<Figure size 432x288 with 1 Axes>"
      ]
     },
     "metadata": {
      "needs_background": "light"
     },
     "output_type": "display_data"
    }
   ],
   "source": [
    "print(sb.countplot(df.age))"
   ]
  },
  {
   "cell_type": "code",
   "execution_count": 8,
   "id": "aaaa13aa",
   "metadata": {},
   "outputs": [
    {
     "name": "stdout",
     "output_type": "stream",
     "text": [
      "AxesSubplot(0.125,0.125;0.775x0.755)\n"
     ]
    },
    {
     "name": "stderr",
     "output_type": "stream",
     "text": [
      "C:\\ProgramData\\Anaconda3\\lib\\site-packages\\seaborn\\_decorators.py:36: FutureWarning: Pass the following variable as a keyword arg: x. From version 0.12, the only valid positional argument will be `data`, and passing other arguments without an explicit keyword will result in an error or misinterpretation.\n",
      "  warnings.warn(\n"
     ]
    },
    {
     "data": {
      "image/png": "[encoded data removed]",
      "text/plain": [
       "<Figure size 432x288 with 1 Axes>"
      ]
     },
     "metadata": {
      "needs_background": "light"
     },
     "output_type": "display_data"
    }
   ],
   "source": [
    "print(sb.countplot(df.sex))"
   ]
  },
  {
   "cell_type": "code",
   "execution_count": 9,
   "id": "f99ef5be",
   "metadata": {},
   "outputs": [
    {
     "name": "stderr",
     "output_type": "stream",
     "text": [
      "C:\\ProgramData\\Anaconda3\\lib\\site-packages\\seaborn\\_decorators.py:36: FutureWarning: Pass the following variable as a keyword arg: x. From version 0.12, the only valid positional argument will be `data`, and passing other arguments without an explicit keyword will result in an error or misinterpretation.\n",
      "  warnings.warn(\n"
     ]
    },
    {
     "name": "stdout",
     "output_type": "stream",
     "text": [
      "AxesSubplot(0.125,0.125;0.775x0.755)\n"
     ]
    },
    {
     "data": {
      "image/png": "[encoded data removed]",
      "text/plain": [
       "<Figure size 432x288 with 1 Axes>"
      ]
     },
     "metadata": {
      "needs_background": "light"
     },
     "output_type": "display_data"
    }
   ],
   "source": [
    "print(sb.countplot(df.point))"
   ]
  },
  {
   "cell_type": "code",
   "execution_count": 10,
   "id": "efbeece2",
   "metadata": {},
   "outputs": [
    {
     "name": "stderr",
     "output_type": "stream",
     "text": [
      "C:\\ProgramData\\Anaconda3\\lib\\site-packages\\seaborn\\_decorators.py:36: FutureWarning: Pass the following variable as a keyword arg: x. From version 0.12, the only valid positional argument will be `data`, and passing other arguments without an explicit keyword will result in an error or misinterpretation.\n",
      "  warnings.warn(\n"
     ]
    },
    {
     "data": {
      "text/plain": [
       "<AxesSubplot:xlabel='age'>"
      ]
     },
     "execution_count": 10,
     "metadata": {},
     "output_type": "execute_result"
    },
    {
     "data": {
      "image/png": "[encoded data removed]",
      "text/plain": [
       "<Figure size 432x288 with 1 Axes>"
      ]
     },
     "metadata": {
      "needs_background": "light"
     },
     "output_type": "display_data"
    }
   ],
   "source": [
    "sb.boxplot(df.age)"
   ]
  },
  {
   "cell_type": "code",
   "execution_count": 11,
   "id": "60b54f6e",
   "metadata": {},
   "outputs": [],
   "source": [
    "q = [1, 5, 5, 6, 7, 13, 15, 18, 19, 20, 30]"
   ]
  },
  {
   "cell_type": "code",
   "execution_count": 12,
   "id": "bfe8321e",
   "metadata": {},
   "outputs": [
    {
     "name": "stderr",
     "output_type": "stream",
     "text": [
      "C:\\ProgramData\\Anaconda3\\lib\\site-packages\\seaborn\\_decorators.py:36: FutureWarning: Pass the following variable as a keyword arg: x. From version 0.12, the only valid positional argument will be `data`, and passing other arguments without an explicit keyword will result in an error or misinterpretation.\n",
      "  warnings.warn(\n"
     ]
    },
    {
     "data": {
      "text/plain": [
       "<AxesSubplot:>"
      ]
     },
     "execution_count": 12,
     "metadata": {},
     "output_type": "execute_result"
    },
    {
     "data": {
      "image/png": "[encoded data removed]",
      "text/plain": [
       "<Figure size 432x288 with 1 Axes>"
      ]
     },
     "metadata": {
      "needs_background": "light"
     },
     "output_type": "display_data"
    }
   ],
   "source": [
    "sb.boxplot(q)"
   ]
  },
  {
   "cell_type": "code",
   "execution_count": 13,
   "id": "a0acddef",
   "metadata": {},
   "outputs": [],
   "source": [
    "users = {'age': [], 'salary': [], 'budget': [], 'weather': [], 'free_time': []} \n",
    "import random as rd\n",
    "for i in range(100):\n",
    "    age = rd.randint(18, 50)\n",
    "    users['age'].append(age)\n",
    "    if age <= 28:\n",
    "        salary = 30000\n",
    "        users['salary'].append(salary - rd.randint(int(salary*-0.3), int(salary*0.3)))\n",
    "    elif age <= 40:\n",
    "        salary = 150000\n",
    "        users['salary'].append(salary - rd.randint(int(salary*-0.3), int(salary*0.3)))\n",
    "    else:\n",
    "        salary = 80000\n",
    "        users['salary'].append(salary - rd.randint(int(salary*-0.3), int(salary*0.3)))\n",
    "    if salary == 30000:\n",
    "        users['budget'].append(salary*0.01*rd.randint(5, 15))\n",
    "    elif salary == 80000:\n",
    "        users['budget'].append(salary*0.01*rd.randint(2, 10))\n",
    "    else:\n",
    "        users['budget'].append(salary*0.01*rd.randint(15, 40))\n",
    "    users['weather'].append(rd.randint(-20, 35))\n",
    "    users['free_time'].append(float('0.'+str(salary)))"
   ]
  },
  {
   "cell_type": "code",
   "execution_count": 14,
   "id": "d145b6f6",
   "metadata": {},
   "outputs": [],
   "source": [
    "users = pd.DataFrame(users, index=names) "
   ]
  },
  {
   "cell_type": "code",
   "execution_count": 15,
   "id": "de6b64d5",
   "metadata": {},
   "outputs": [
    {
     "data": {
      "text/html": [
       "<div>\n",
       "<style scoped>\n",
       "    .dataframe tbody tr th:only-of-type {\n",
       "        vertical-align: middle;\n",
       "    }\n",
       "\n",
       "    .dataframe tbody tr th {\n",
       "        vertical-align: top;\n",
       "    }\n",
       "\n",
       "    .dataframe thead th {\n",
       "        text-align: right;\n",
       "    }\n",
       "</style>\n",
       "<table border=\"1\" class=\"dataframe\">\n",
       "  <thead>\n",
       "    <tr style=\"text-align: right;\">\n",
       "      <th></th>\n",
       "      <th>age</th>\n",
       "      <th>salary</th>\n",
       "      <th>budget</th>\n",
       "      <th>weather</th>\n",
       "      <th>free_time</th>\n",
       "    </tr>\n",
       "  </thead>\n",
       "  <tbody>\n",
       "    <tr>\n",
       "      <th>щхйгш</th>\n",
       "      <td>43</td>\n",
       "      <td>101619</td>\n",
       "      <td>5600.0</td>\n",
       "      <td>10</td>\n",
       "      <td>0.80</td>\n",
       "    </tr>\n",
       "    <tr>\n",
       "      <th>снпйъ</th>\n",
       "      <td>50</td>\n",
       "      <td>57838</td>\n",
       "      <td>3200.0</td>\n",
       "      <td>-11</td>\n",
       "      <td>0.80</td>\n",
       "    </tr>\n",
       "    <tr>\n",
       "      <th>фдзпх</th>\n",
       "      <td>40</td>\n",
       "      <td>175337</td>\n",
       "      <td>27000.0</td>\n",
       "      <td>27</td>\n",
       "      <td>0.15</td>\n",
       "    </tr>\n",
       "    <tr>\n",
       "      <th>лцуке</th>\n",
       "      <td>40</td>\n",
       "      <td>147846</td>\n",
       "      <td>30000.0</td>\n",
       "      <td>-11</td>\n",
       "      <td>0.15</td>\n",
       "    </tr>\n",
       "    <tr>\n",
       "      <th>онйщи</th>\n",
       "      <td>26</td>\n",
       "      <td>26635</td>\n",
       "      <td>1800.0</td>\n",
       "      <td>-1</td>\n",
       "      <td>0.30</td>\n",
       "    </tr>\n",
       "    <tr>\n",
       "      <th>...</th>\n",
       "      <td>...</td>\n",
       "      <td>...</td>\n",
       "      <td>...</td>\n",
       "      <td>...</td>\n",
       "      <td>...</td>\n",
       "    </tr>\n",
       "    <tr>\n",
       "      <th>ъднцо</th>\n",
       "      <td>33</td>\n",
       "      <td>131260</td>\n",
       "      <td>22500.0</td>\n",
       "      <td>-18</td>\n",
       "      <td>0.15</td>\n",
       "    </tr>\n",
       "    <tr>\n",
       "      <th>цышпл</th>\n",
       "      <td>32</td>\n",
       "      <td>125326</td>\n",
       "      <td>60000.0</td>\n",
       "      <td>-1</td>\n",
       "      <td>0.15</td>\n",
       "    </tr>\n",
       "    <tr>\n",
       "      <th>ихлзв</th>\n",
       "      <td>21</td>\n",
       "      <td>32374</td>\n",
       "      <td>3300.0</td>\n",
       "      <td>-6</td>\n",
       "      <td>0.30</td>\n",
       "    </tr>\n",
       "    <tr>\n",
       "      <th>ууаир</th>\n",
       "      <td>37</td>\n",
       "      <td>145423</td>\n",
       "      <td>36000.0</td>\n",
       "      <td>-13</td>\n",
       "      <td>0.15</td>\n",
       "    </tr>\n",
       "    <tr>\n",
       "      <th>ърншб</th>\n",
       "      <td>18</td>\n",
       "      <td>29223</td>\n",
       "      <td>3600.0</td>\n",
       "      <td>6</td>\n",
       "      <td>0.30</td>\n",
       "    </tr>\n",
       "  </tbody>\n",
       "</table>\n",
       "<p>100 rows × 5 columns</p>\n",
       "</div>"
      ],
      "text/plain": [
       "       age  salary   budget  weather  free_time\n",
       "щхйгш   43  101619   5600.0       10       0.80\n",
       "снпйъ   50   57838   3200.0      -11       0.80\n",
       "фдзпх   40  175337  27000.0       27       0.15\n",
       "лцуке   40  147846  30000.0      -11       0.15\n",
       "онйщи   26   26635   1800.0       -1       0.30\n",
       "...    ...     ...      ...      ...        ...\n",
       "ъднцо   33  131260  22500.0      -18       0.15\n",
       "цышпл   32  125326  60000.0       -1       0.15\n",
       "ихлзв   21   32374   3300.0       -6       0.30\n",
       "ууаир   37  145423  36000.0      -13       0.15\n",
       "ърншб   18   29223   3600.0        6       0.30\n",
       "\n",
       "[100 rows x 5 columns]"
      ]
     },
     "execution_count": 15,
     "metadata": {},
     "output_type": "execute_result"
    }
   ],
   "source": [
    "users"
   ]
  },
  {
   "cell_type": "code",
   "execution_count": 16,
   "id": "db4729ad",
   "metadata": {},
   "outputs": [
    {
     "data": {
      "text/plain": [
       "<AxesSubplot:xlabel='age', ylabel='salary'>"
      ]
     },
     "execution_count": 16,
     "metadata": {},
     "output_type": "execute_result"
    },
    {
     "data": {
      "image/png": "[encoded data removed]",
      "text/plain": [
       "<Figure size 432x288 with 1 Axes>"
      ]
     },
     "metadata": {
      "needs_background": "light"
     },
     "output_type": "display_data"
    }
   ],
   "source": [
    "sb.scatterplot(x=users.age, y=users.salary)"
   ]
  },
  {
   "cell_type": "code",
   "execution_count": 17,
   "id": "328a937a",
   "metadata": {},
   "outputs": [
    {
     "data": {
      "text/plain": [
       "<AxesSubplot:xlabel='age', ylabel='budget'>"
      ]
     },
     "execution_count": 17,
     "metadata": {},
     "output_type": "execute_result"
    },
    {
     "data": {
      "image/png": "[encoded data removed]",
      "text/plain": [
       "<Figure size 432x288 with 1 Axes>"
      ]
     },
     "metadata": {
      "needs_background": "light"
     },
     "output_type": "display_data"
    }
   ],
   "source": [
    "sb.scatterplot(x=users.age, y=users.budget)"
   ]
  },
  {
   "cell_type": "code",
   "execution_count": 18,
   "id": "2f6fc5de",
   "metadata": {},
   "outputs": [
    {
     "data": {
      "text/plain": [
       "<AxesSubplot:xlabel='salary', ylabel='budget'>"
      ]
     },
     "execution_count": 18,
     "metadata": {},
     "output_type": "execute_result"
    },
    {
     "data": {
      "image/png": "[encoded data removed]",
      "text/plain": [
       "<Figure size 432x288 with 1 Axes>"
      ]
     },
     "metadata": {
      "needs_background": "light"
     },
     "output_type": "display_data"
    }
   ],
   "source": [
    "sb.scatterplot(x=users.salary, y=users.budget)"
   ]
  },
  {
   "cell_type": "code",
   "execution_count": 19,
   "id": "4f16b67b",
   "metadata": {},
   "outputs": [
    {
     "data": {
      "text/html": [
       "<div>\n",
       "<style scoped>\n",
       "    .dataframe tbody tr th:only-of-type {\n",
       "        vertical-align: middle;\n",
       "    }\n",
       "\n",
       "    .dataframe tbody tr th {\n",
       "        vertical-align: top;\n",
       "    }\n",
       "\n",
       "    .dataframe thead th {\n",
       "        text-align: right;\n",
       "    }\n",
       "</style>\n",
       "<table border=\"1\" class=\"dataframe\">\n",
       "  <thead>\n",
       "    <tr style=\"text-align: right;\">\n",
       "      <th></th>\n",
       "      <th>age</th>\n",
       "      <th>salary</th>\n",
       "      <th>budget</th>\n",
       "      <th>weather</th>\n",
       "      <th>free_time</th>\n",
       "    </tr>\n",
       "  </thead>\n",
       "  <tbody>\n",
       "    <tr>\n",
       "      <th>age</th>\n",
       "      <td>1.000000</td>\n",
       "      <td>0.472801</td>\n",
       "      <td>0.202910</td>\n",
       "      <td>-0.052028</td>\n",
       "      <td>0.544263</td>\n",
       "    </tr>\n",
       "    <tr>\n",
       "      <th>salary</th>\n",
       "      <td>0.472801</td>\n",
       "      <td>1.000000</td>\n",
       "      <td>0.814780</td>\n",
       "      <td>-0.027110</td>\n",
       "      <td>-0.331010</td>\n",
       "    </tr>\n",
       "    <tr>\n",
       "      <th>budget</th>\n",
       "      <td>0.202910</td>\n",
       "      <td>0.814780</td>\n",
       "      <td>1.000000</td>\n",
       "      <td>0.047054</td>\n",
       "      <td>-0.579027</td>\n",
       "    </tr>\n",
       "    <tr>\n",
       "      <th>weather</th>\n",
       "      <td>-0.052028</td>\n",
       "      <td>-0.027110</td>\n",
       "      <td>0.047054</td>\n",
       "      <td>1.000000</td>\n",
       "      <td>-0.023462</td>\n",
       "    </tr>\n",
       "    <tr>\n",
       "      <th>free_time</th>\n",
       "      <td>0.544263</td>\n",
       "      <td>-0.331010</td>\n",
       "      <td>-0.579027</td>\n",
       "      <td>-0.023462</td>\n",
       "      <td>1.000000</td>\n",
       "    </tr>\n",
       "  </tbody>\n",
       "</table>\n",
       "</div>"
      ],
      "text/plain": [
       "                age    salary    budget   weather  free_time\n",
       "age        1.000000  0.472801  0.202910 -0.052028   0.544263\n",
       "salary     0.472801  1.000000  0.814780 -0.027110  -0.331010\n",
       "budget     0.202910  0.814780  1.000000  0.047054  -0.579027\n",
       "weather   -0.052028 -0.027110  0.047054  1.000000  -0.023462\n",
       "free_time  0.544263 -0.331010 -0.579027 -0.023462   1.000000"
      ]
     },
     "execution_count": 19,
     "metadata": {},
     "output_type": "execute_result"
    }
   ],
   "source": [
    "users.corr()"
   ]
  },
  {
   "cell_type": "code",
   "execution_count": 20,
   "id": "b6e7a148",
   "metadata": {},
   "outputs": [],
   "source": [
    "# k = [users.age[i]/users.salary[i] for i in range(len(users))]\n",
    "# print(k)\n",
    "# [abs(k[j]-k[j+1]) for j in range(len(k)-1)]"
   ]
  },
  {
   "cell_type": "code",
   "execution_count": 21,
   "id": "237675e2",
   "metadata": {},
   "outputs": [],
   "source": [
    "def get_budget(salary):\n",
    "    razn = [abs(i-salary) for i in users.salary]\n",
    "    minimum = min(razn)\n",
    "    ind = razn.index(minimum)\n",
    "    chel = users.iloc[ind]\n",
    "    res = chel['budget']\n",
    "    print('В результате:', res, '\\n')\n",
    "    print('Сам персонаж:\\n' + str(chel), '\\n')\n",
    "    print('Разница между зарплатами:', minimum)\n",
    "    print('Бесполезный индекс человека:', ind)\n",
    "    return res"
   ]
  },
  {
   "cell_type": "code",
   "execution_count": 22,
   "id": "cbdc6ab1",
   "metadata": {},
   "outputs": [],
   "source": [
    "def expenditure(salary):\n",
    "    less = max([i for i in users.salary if i<salary])\n",
    "    more = min([i for i in users.salary if i>salary])\n",
    "    print (less, more)\n",
    "    diff_one_perc = (more-less)*1/100\n",
    "    print (diff_one_perc)\n",
    "    exp = (salary-less)/diff_one_perc\n",
    "    exp2 = (salary-more)/diff_one_perc\n",
    "    print(exp, exp2)"
   ]
  },
  {
   "cell_type": "code",
   "execution_count": 25,
   "id": "160a50d8",
   "metadata": {},
   "outputs": [
    {
     "name": "stdout",
     "output_type": "stream",
     "text": [
      "137528 138776\n",
      "12.48\n",
      "37.82051282051282 -62.179487179487175\n"
     ]
    }
   ],
   "source": [
    "expenditure(138000)"
   ]
  },
  {
   "cell_type": "code",
   "execution_count": 24,
   "id": "f5f79e0f",
   "metadata": {},
   "outputs": [
    {
     "name": "stdout",
     "output_type": "stream",
     "text": [
      "В результате: 22500.0 \n",
      "\n",
      "Сам персонаж:\n",
      "age              33.00\n",
      "salary       131260.00\n",
      "budget        22500.00\n",
      "weather         -18.00\n",
      "free_time         0.15\n",
      "Name: ъднцо, dtype: float64 \n",
      "\n",
      "Разница между зарплатами: 996\n",
      "Бесполезный индекс человека: 95\n"
     ]
    },
    {
     "data": {
      "text/plain": [
       "22500.0"
      ]
     },
     "execution_count": 24,
     "metadata": {},
     "output_type": "execute_result"
    }
   ],
   "source": [
    "get_budget(132256)"
   ]
  },
  {
   "cell_type": "code",
   "execution_count": null,
   "id": "14a83ff1",
   "metadata": {},
   "outputs": [],
   "source": []
  },
  {
   "cell_type": "code",
   "execution_count": null,
   "id": "9228634d",
   "metadata": {},
   "outputs": [],
   "source": []
  }
 ],
 "metadata": {
  "kernelspec": {
   "display_name": "Python 3",
   "language": "python",
   "name": "python3"
  },
  "language_info": {
   "codemirror_mode": {
    "name": "ipython",
    "version": 3
   },
   "file_extension": ".py",
   "mimetype": "text/x-python",
   "name": "python",
   "nbconvert_exporter": "python",
   "pygments_lexer": "ipython3",
   "version": "3.8.8"
  }
 },
 "nbformat": 4,
 "nbformat_minor": 5
}
