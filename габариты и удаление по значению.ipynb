{
 "cells": [
  {
   "cell_type": "markdown",
   "id": "c36417a8",
   "metadata": {},
   "source": [
    "#надо сделать так, чтобы было неважно, цифра или слово - в любом случае это слово (или слово под этой цифрой) удаляется"
   ]
  },
  {
   "cell_type": "code",
   "execution_count": 1,
   "id": "66f5e581",
   "metadata": {},
   "outputs": [],
   "source": [
    "def func(a, b):\n",
    "    a = a.split() \n",
    "    if type (b) == int:\n",
    "            if b in range (len(a)):\n",
    "                a.pop(b)\n",
    "                a = ' '.join(a)\n",
    "                print(a)\n",
    "            else: print('out of range')\n",
    "    elif  type (b)  == str:\n",
    "            if b in a:\n",
    "                a.remove(b)\n",
    "                a = ' '.join(a)\n",
    "                print(a)\n",
    "            else: print ('no suitable word found')\n",
    "    else:\n",
    "            print ('you trynna fool me?')\n",
    "    "
   ]
  },
  {
   "cell_type": "code",
   "execution_count": 67,
   "id": "810b67df",
   "metadata": {},
   "outputs": [],
   "source": [
    "def yandex(arg):\n",
    "    razmer = [40, 30, 27]\n",
    "    arg = [int(i) for i in arg.split('x')] \n",
    "    razmer.sort()\n",
    "    arg.sort()\n",
    "    print (razmer, arg)\n",
    "    if razmer[0] >= arg[0] and razmer[1] >= arg[1] and razmer[2] >= arg[2]:\n",
    "        print('molodec')\n",
    "    else:\n",
    "        print('ne to')\n",
    "    "
   ]
  },
  {
   "cell_type": "code",
   "execution_count": null,
   "id": "23055cb9",
   "metadata": {},
   "outputs": [],
   "source": [
    "# есть 3 типа ячеек. 10х20х30; 20х25х40; 50х70х100; \n",
    "# на вход в аргумент функции дается массив из размеров товаров. ['23х45х67', '...', '...']\n",
    "# нужно вывести в том же порядке в какую из этих ячеек влезет товар.\n",
    "# ЖЕЛАТЕЛЬНО реализовать три типа постаматов: \n",
    "# в первом толтько 10 20 30\n",
    "# во втором ... \n",
    "# в третьем есть все "
   ]
  },
  {
   "cell_type": "code",
   "execution_count": 9,
   "id": "0acfc253",
   "metadata": {},
   "outputs": [],
   "source": [
    "def izverg_kirill(arg):\n",
    "    razmer1 = [10, 20, 30]\n",
    "    razmer2 = [20, 25, 40]\n",
    "    razmer3 = [50, 70, 100]\n",
    "    arg = [int(i) for i in arg.split('x')] \n",
    "    razmer1.sort()\n",
    "    razmer2.sort()\n",
    "    razmer3.sort()\n",
    "    arg.sort()\n",
    "    print (razmer1, razmer2, razmer3, arg)\n",
    "    if razmer1[0] >= arg[0] and razmer1[1] >= arg[1] and razmer1[2] >= arg[2]:\n",
    "        print('в первую ячейку пойдешь')\n",
    "    if razmer2[0] >= arg[0] and razmer2[1] >= arg[1] and razmer2[2] >= arg[2]:\n",
    "        print ('во вторую')\n",
    "    if razmer3[0] >= arg[0] and razmer3[1] >= arg[1] and razmer3[2] >= arg[2]:\n",
    "         print ('в третью')\n",
    "    else:\n",
    "        print('ne to')"
   ]
  },
  {
   "cell_type": "code",
   "execution_count": 13,
   "id": "eca8eaab",
   "metadata": {},
   "outputs": [
    {
     "name": "stdout",
     "output_type": "stream",
     "text": [
      "[10, 20, 30] [20, 25, 40] [50, 70, 100] [34, 45, 99]\n",
      "в третью\n"
     ]
    }
   ],
   "source": [
    "izverg_kirill('45x99x34')"
   ]
  },
  {
   "cell_type": "code",
   "execution_count": null,
   "id": "debb460b",
   "metadata": {},
   "outputs": [],
   "source": []
  },
  {
   "cell_type": "code",
   "execution_count": null,
   "id": "107f107f",
   "metadata": {},
   "outputs": [],
   "source": []
  }
 ],
 "metadata": {
  "kernelspec": {
   "display_name": "Python 3",
   "language": "python",
   "name": "python3"
  },
  "language_info": {
   "codemirror_mode": {
    "name": "ipython",
    "version": 3
   },
   "file_extension": ".py",
   "mimetype": "text/x-python",
   "name": "python",
   "nbconvert_exporter": "python",
   "pygments_lexer": "ipython3",
   "version": "3.8.8"
  }
 },
 "nbformat": 4,
 "nbformat_minor": 5
}
